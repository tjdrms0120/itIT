{
 "cells": [
  {
   "cell_type": "code",
   "execution_count": 1,
   "metadata": {},
   "outputs": [],
   "source": [
    "from sklearn.tree import DecisionTreeClassifier\n",
    "from sklearn.tree import export_graphviz\n",
    "from sklearn.metrics import accuracy_score\n",
    "from sklearn.metrics import mean_squared_error, r2_score\n",
    "from xgboost import XGBClassifier\n",
    "from sklearn.model_selection import GridSearchCV\n",
    "from catboost import CatBoostClassifier\n",
    "from sklearn.model_selection import train_test_split\n",
    "from sklearn.metrics import accuracy_score, recall_score, confusion_matrix, precision_score, f1_score, classification_report\n",
    "from sklearn.preprocessing import StandardScaler\n",
    "from sklearn.preprocessing import OrdinalEncoder\n",
    "from sklearn import preprocessing\n",
    "from imblearn.over_sampling import SMOTE, RandomOverSampler, BorderlineSMOTE, ADASYN\n",
    "from imblearn.combine import SMOTEENN, SMOTETomek \n",
    "from imblearn.under_sampling import NearMiss, RandomUnderSampler, CondensedNearestNeighbour, OneSidedSelection, TomekLinks, ClusterCentroids, InstanceHardnessThreshold \n",
    "\n",
    "import pickle\n",
    "import xgboost as xgb\n",
    "import warnings\n",
    "import pandas as pd\n",
    "import numpy as np\n",
    "from flask import Flask, render_template, jsonify, request\n",
    "import warnings \n"
   ]
  },
  {
   "cell_type": "code",
   "execution_count": 2,
   "metadata": {},
   "outputs": [
    {
     "name": "stderr",
     "output_type": "stream",
     "text": [
      "c:\\Users\\aischool\\.conda\\envs\\seong\\lib\\site-packages\\xgboost\\sklearn.py:793: UserWarning: `eval_metric` in `fit` method is deprecated for better compatibility with scikit-learn, use `eval_metric` in constructor or`set_params` instead.\n",
      "  warnings.warn(\n",
      "c:\\Users\\aischool\\.conda\\envs\\seong\\lib\\site-packages\\xgboost\\sklearn.py:793: UserWarning: `early_stopping_rounds` in `fit` method is deprecated for better compatibility with scikit-learn, use `early_stopping_rounds` in constructor or`set_params` instead.\n",
      "  warnings.warn(\n"
     ]
    },
    {
     "name": "stdout",
     "output_type": "stream",
     "text": [
      "[0]\tvalidation_0-error:0.12636\n",
      "[10]\tvalidation_0-error:0.12688\n",
      "[20]\tvalidation_0-error:0.12271\n",
      "[30]\tvalidation_0-error:0.12141\n",
      "[40]\tvalidation_0-error:0.12057\n",
      "[50]\tvalidation_0-error:0.11989\n",
      "[60]\tvalidation_0-error:0.11865\n",
      "[70]\tvalidation_0-error:0.11768\n",
      "[80]\tvalidation_0-error:0.11628\n",
      "[90]\tvalidation_0-error:0.11587\n",
      "[100]\tvalidation_0-error:0.11451\n",
      "[110]\tvalidation_0-error:0.11446\n",
      "[120]\tvalidation_0-error:0.11425\n",
      "[130]\tvalidation_0-error:0.11359\n",
      "[140]\tvalidation_0-error:0.11321\n",
      "[150]\tvalidation_0-error:0.11260\n",
      "[160]\tvalidation_0-error:0.11235\n",
      "[170]\tvalidation_0-error:0.11165\n",
      "[180]\tvalidation_0-error:0.11121\n",
      "[190]\tvalidation_0-error:0.11079\n",
      "[200]\tvalidation_0-error:0.11051\n",
      "[210]\tvalidation_0-error:0.11054\n",
      "[220]\tvalidation_0-error:0.11051\n",
      "[230]\tvalidation_0-error:0.10998\n",
      "[240]\tvalidation_0-error:0.10957\n",
      "[250]\tvalidation_0-error:0.10940\n",
      "[260]\tvalidation_0-error:0.10935\n",
      "[270]\tvalidation_0-error:0.10875\n",
      "[280]\tvalidation_0-error:0.10846\n",
      "[290]\tvalidation_0-error:0.10852\n",
      "[299]\tvalidation_0-error:0.10794\n"
     ]
    },
    {
     "name": "stderr",
     "output_type": "stream",
     "text": [
      "c:\\Users\\aischool\\.conda\\envs\\seong\\lib\\site-packages\\xgboost\\sklearn.py:793: UserWarning: `eval_metric` in `fit` method is deprecated for better compatibility with scikit-learn, use `eval_metric` in constructor or`set_params` instead.\n",
      "  warnings.warn(\n",
      "c:\\Users\\aischool\\.conda\\envs\\seong\\lib\\site-packages\\xgboost\\sklearn.py:793: UserWarning: `early_stopping_rounds` in `fit` method is deprecated for better compatibility with scikit-learn, use `early_stopping_rounds` in constructor or`set_params` instead.\n",
      "  warnings.warn(\n"
     ]
    },
    {
     "name": "stdout",
     "output_type": "stream",
     "text": [
      "[0]\tvalidation_0-error:0.11740\n",
      "[10]\tvalidation_0-error:0.11065\n",
      "[20]\tvalidation_0-error:0.10029\n",
      "[30]\tvalidation_0-error:0.09565\n",
      "[40]\tvalidation_0-error:0.09211\n",
      "[50]\tvalidation_0-error:0.08699\n",
      "[60]\tvalidation_0-error:0.08439\n",
      "[70]\tvalidation_0-error:0.08203\n",
      "[80]\tvalidation_0-error:0.07787\n",
      "[90]\tvalidation_0-error:0.07644\n",
      "[100]\tvalidation_0-error:0.07523\n",
      "[110]\tvalidation_0-error:0.07213\n",
      "[120]\tvalidation_0-error:0.07157\n",
      "[130]\tvalidation_0-error:0.07095\n",
      "[140]\tvalidation_0-error:0.06851\n",
      "[150]\tvalidation_0-error:0.06798\n",
      "[160]\tvalidation_0-error:0.06688\n",
      "[170]\tvalidation_0-error:0.06587\n",
      "[180]\tvalidation_0-error:0.06493\n",
      "[190]\tvalidation_0-error:0.06434\n",
      "[200]\tvalidation_0-error:0.06312\n",
      "[210]\tvalidation_0-error:0.06280\n",
      "[220]\tvalidation_0-error:0.06242\n",
      "[230]\tvalidation_0-error:0.06221\n",
      "[240]\tvalidation_0-error:0.06139\n",
      "[250]\tvalidation_0-error:0.06047\n",
      "[260]\tvalidation_0-error:0.06007\n",
      "[270]\tvalidation_0-error:0.05958\n",
      "[280]\tvalidation_0-error:0.05967\n",
      "[290]\tvalidation_0-error:0.05943\n",
      "[299]\tvalidation_0-error:0.05896\n"
     ]
    },
    {
     "ename": "",
     "evalue": "",
     "output_type": "error",
     "traceback": [
      "\u001b[1;31mCanceled future for execute_request message before replies were done"
     ]
    },
    {
     "ename": "",
     "evalue": "",
     "output_type": "error",
     "traceback": [
      "현재 셀 또는 이전 셀에서 코드를 실행하는 동안 Kernel이 충돌했습니다. 셀의 코드를 검토하여 오류의 가능한 원인을 식별하세요. 자세한 내용을 보려면 <a href='https://aka.ms/vscodeJupyterKernelCrash'> 여기 </a> 를 클릭하세요. 자세한 내용은 Jupyter <a href='command:jupyter.viewOutput'>로그</a>를 참조하세요."
     ]
    }
   ],
   "source": [
    "import HeartDisease\n",
    "import Diabetic\n",
    "import KindneyDisease\n",
    "import Stroke\n",
    "import Asthma"
   ]
  },
  {
   "cell_type": "code",
   "execution_count": 1,
   "metadata": {},
   "outputs": [
    {
     "ename": "NameError",
     "evalue": "name 'pickle' is not defined",
     "output_type": "error",
     "traceback": [
      "\u001b[1;31m---------------------------------------------------------------------------\u001b[0m",
      "\u001b[1;31mNameError\u001b[0m                                 Traceback (most recent call last)",
      "\u001b[1;32mc:\\Users\\aischool\\Desktop\\itit4\\itIT\\flask_ML.ipynb 셀 3\u001b[0m in \u001b[0;36m<cell line: 1>\u001b[1;34m()\u001b[0m\n\u001b[0;32m      <a href='vscode-notebook-cell:/c%3A/Users/aischool/Desktop/itit4/itIT/flask_ML.ipynb#W2sZmlsZQ%3D%3D?line=0'>1</a>\u001b[0m \u001b[39mwith\u001b[39;00m \u001b[39mopen\u001b[39m(\u001b[39m'\u001b[39m\u001b[39mHeartDisease.pkl\u001b[39m\u001b[39m'\u001b[39m, \u001b[39m'\u001b[39m\u001b[39mrb\u001b[39m\u001b[39m'\u001b[39m) \u001b[39mas\u001b[39;00m HD:\n\u001b[1;32m----> <a href='vscode-notebook-cell:/c%3A/Users/aischool/Desktop/itit4/itIT/flask_ML.ipynb#W2sZmlsZQ%3D%3D?line=1'>2</a>\u001b[0m     HD_model \u001b[39m=\u001b[39m pickle\u001b[39m.\u001b[39mload(HD)\n\u001b[0;32m      <a href='vscode-notebook-cell:/c%3A/Users/aischool/Desktop/itit4/itIT/flask_ML.ipynb#W2sZmlsZQ%3D%3D?line=2'>3</a>\u001b[0m \u001b[39mwith\u001b[39;00m \u001b[39mopen\u001b[39m(\u001b[39m'\u001b[39m\u001b[39mdiabetic.pkl\u001b[39m\u001b[39m'\u001b[39m, \u001b[39m'\u001b[39m\u001b[39mrb\u001b[39m\u001b[39m'\u001b[39m) \u001b[39mas\u001b[39;00m DI:\n\u001b[0;32m      <a href='vscode-notebook-cell:/c%3A/Users/aischool/Desktop/itit4/itIT/flask_ML.ipynb#W2sZmlsZQ%3D%3D?line=3'>4</a>\u001b[0m     DI_model \u001b[39m=\u001b[39m pickle\u001b[39m.\u001b[39mload(DI)\n",
      "\u001b[1;31mNameError\u001b[0m: name 'pickle' is not defined"
     ]
    }
   ],
   "source": [
    "with open('HeartDisease.pkl', 'rb') as HD:\n",
    "    HD_model = pickle.load(HD)\n",
    "with open('diabetic.pkl', 'rb') as DI:\n",
    "    DI_model = pickle.load(DI)\n",
    "with open('KindneyDisease.pkl', 'rb') as KD:\n",
    "    KD_model = pickle.load(KD)\n",
    "with open('Stroke.pkl', 'rb') as ST:\n",
    "    ST_model = pickle.load(ST)\n",
    "with open('Asthma.pkl', 'rb') as AS:\n",
    "    AS_model = pickle.load(AS)\n",
    "\n",
    "# HD_sc=pickle.load(open('HeartDisease_scaler.sav','rb'))\n",
    "# DI_sc=pickle.load(open('diabetic_scaler.sav','rb'))\n",
    "# KD_sc=pickle.load(open('KindneyDisease_scaler.sav','rb'))\n",
    "# ST_sc=pickle.load(open('Stroke_scaler.sav','rb'))\n",
    "# AS_sc=pickle.load(open('Asthma_scaler.sav','rb'))"
   ]
  },
  {
   "cell_type": "code",
   "execution_count": 9,
   "metadata": {},
   "outputs": [
    {
     "name": "stdout",
     "output_type": "stream",
     "text": [
      " * Serving Flask app '__main__' (lazy loading)\n",
      " * Environment: production\n",
      "\u001b[31m   WARNING: This is a development server. Do not use it in a production deployment.\u001b[0m\n",
      "\u001b[2m   Use a production WSGI server instead.\u001b[0m\n",
      " * Debug mode: on\n"
     ]
    },
    {
     "name": "stderr",
     "output_type": "stream",
     "text": [
      " * Running on http://127.0.0.1:5000 (Press CTRL+C to quit)\n",
      "127.0.0.1 - - [17/Aug/2022 18:51:09] \"GET / HTTP/1.1\" 200 -\n",
      "127.0.0.1 - - [17/Aug/2022 18:51:10] \"GET /static/img/검색아이콘.png HTTP/1.1\" 200 -\n",
      "127.0.0.1 - - [17/Aug/2022 18:51:10] \"GET /static/img/it로고.png HTTP/1.1\" 200 -\n",
      "127.0.0.1 - - [17/Aug/2022 18:51:10] \"GET /static/homepage.js HTTP/1.1\" 200 -\n",
      "127.0.0.1 - - [17/Aug/2022 18:51:10] \"GET /static/homepage.css HTTP/1.1\" 200 -\n",
      "127.0.0.1 - - [17/Aug/2022 18:51:10] \"GET /static/img/노부부.jpg HTTP/1.1\" 200 -\n",
      "127.0.0.1 - - [17/Aug/2022 18:51:10] \"GET /static/img/young_woman.jpg HTTP/1.1\" 200 -\n",
      "127.0.0.1 - - [17/Aug/2022 18:51:10] \"GET /static/img/family.jpg HTTP/1.1\" 200 -\n",
      "127.0.0.1 - - [17/Aug/2022 18:51:10] \"GET /static/img/shoose.jpg HTTP/1.1\" 200 -\n",
      "127.0.0.1 - - [17/Aug/2022 18:51:10] \"GET /favicon.ico HTTP/1.1\" 404 -\n",
      "127.0.0.1 - - [17/Aug/2022 18:51:21] \"GET /test HTTP/1.1\" 200 -\n",
      "127.0.0.1 - - [17/Aug/2022 18:51:21] \"GET /static/test_page.css HTTP/1.1\" 200 -\n",
      "127.0.0.1 - - [17/Aug/2022 18:51:21] \"GET /static/img/it로고.png HTTP/1.1\" 304 -\n",
      "127.0.0.1 - - [17/Aug/2022 18:51:21] \"GET /static/img/검색아이콘.png HTTP/1.1\" 304 -\n",
      "127.0.0.1 - - [17/Aug/2022 18:51:21] \"GET /static/test_page.css HTTP/1.1\" 304 -\n",
      "127.0.0.1 - - [17/Aug/2022 18:51:44] \"POST /result_page HTTP/1.1\" 200 -\n",
      "127.0.0.1 - - [17/Aug/2022 18:51:44] \"GET /static/result_page.css HTTP/1.1\" 200 -\n",
      "127.0.0.1 - - [17/Aug/2022 18:51:44] \"GET /static/img/노부부.jpg HTTP/1.1\" 304 -\n",
      "127.0.0.1 - - [17/Aug/2022 18:51:44] \"GET /static/img/shoose.jpg HTTP/1.1\" 304 -\n",
      "127.0.0.1 - - [17/Aug/2022 18:51:44] \"GET /static/img/family.jpg HTTP/1.1\" 304 -\n",
      "127.0.0.1 - - [17/Aug/2022 18:51:44] \"GET /static/img/young_woman.jpg HTTP/1.1\" 304 -\n",
      "127.0.0.1 - - [17/Aug/2022 18:51:44] \"GET /static/img/it로고.png HTTP/1.1\" 304 -\n",
      "127.0.0.1 - - [17/Aug/2022 18:51:44] \"GET /static/result_page.js HTTP/1.1\" 200 -\n",
      "127.0.0.1 - - [17/Aug/2022 18:51:45] \"GET /static/img/검색아이콘.png HTTP/1.1\" 304 -\n",
      "127.0.0.1 - - [17/Aug/2022 18:51:45] \"GET /static/img/sadface.gif HTTP/1.1\" 200 -\n",
      "127.0.0.1 - - [17/Aug/2022 18:51:45] \"GET /static/img/hokangs.jpg HTTP/1.1\" 200 -\n",
      "127.0.0.1 - - [17/Aug/2022 18:51:45] \"GET /static/img/stake.jpg HTTP/1.1\" 200 -\n"
     ]
    },
    {
     "name": "stdout",
     "output_type": "stream",
     "text": [
      "[0]\n",
      "[0]\n",
      "[0]\n",
      "[1]\n",
      "[1]\n",
      "2 0 0 0 0 1 1 8 0 1 1 1\n"
     ]
    },
    {
     "name": "stderr",
     "output_type": "stream",
     "text": [
      "127.0.0.1 - - [17/Aug/2022 18:52:38] \"GET /test HTTP/1.1\" 200 -\n",
      "127.0.0.1 - - [17/Aug/2022 18:52:38] \"GET /static/test_page.css HTTP/1.1\" 304 -\n",
      "127.0.0.1 - - [17/Aug/2022 18:52:38] \"GET /static/img/it로고.png HTTP/1.1\" 304 -\n",
      "127.0.0.1 - - [17/Aug/2022 18:52:38] \"GET /static/img/검색아이콘.png HTTP/1.1\" 304 -\n",
      "127.0.0.1 - - [17/Aug/2022 18:52:38] \"GET /static/test_page.css HTTP/1.1\" 304 -\n",
      "127.0.0.1 - - [17/Aug/2022 18:53:00] \"POST /result_page HTTP/1.1\" 200 -\n",
      "127.0.0.1 - - [17/Aug/2022 18:53:00] \"GET /static/result_page.css HTTP/1.1\" 304 -\n",
      "127.0.0.1 - - [17/Aug/2022 18:53:00] \"GET /static/result_page.js HTTP/1.1\" 304 -\n",
      "127.0.0.1 - - [17/Aug/2022 18:53:00] \"GET /static/img/it로고.png HTTP/1.1\" 304 -\n",
      "127.0.0.1 - - [17/Aug/2022 18:53:00] \"GET /static/img/검색아이콘.png HTTP/1.1\" 304 -\n",
      "127.0.0.1 - - [17/Aug/2022 18:53:00] \"GET /static/img/shoose.jpg HTTP/1.1\" 304 -\n",
      "127.0.0.1 - - [17/Aug/2022 18:53:00] \"GET /static/img/young_woman.jpg HTTP/1.1\" 304 -\n",
      "127.0.0.1 - - [17/Aug/2022 18:53:00] \"GET /static/img/family.jpg HTTP/1.1\" 304 -\n",
      "127.0.0.1 - - [17/Aug/2022 18:53:00] \"GET /static/img/노부부.jpg HTTP/1.1\" 304 -\n",
      "127.0.0.1 - - [17/Aug/2022 18:53:00] \"GET /static/img/sadface.gif HTTP/1.1\" 304 -\n",
      "127.0.0.1 - - [17/Aug/2022 18:53:00] \"GET /static/img/hokangs.jpg HTTP/1.1\" 304 -\n",
      "127.0.0.1 - - [17/Aug/2022 18:53:00] \"GET /static/img/stake.jpg HTTP/1.1\" 304 -\n"
     ]
    },
    {
     "name": "stdout",
     "output_type": "stream",
     "text": [
      "[0]\n",
      "[0]\n",
      "[0]\n",
      "[1]\n",
      "[0]\n",
      "2 0 0 0 0 1 1 8 0 0 1 1\n"
     ]
    },
    {
     "name": "stderr",
     "output_type": "stream",
     "text": [
      "127.0.0.1 - - [17/Aug/2022 18:53:02] \"GET /test HTTP/1.1\" 200 -\n",
      "127.0.0.1 - - [17/Aug/2022 18:53:02] \"GET /static/test_page.css HTTP/1.1\" 304 -\n",
      "127.0.0.1 - - [17/Aug/2022 18:53:02] \"GET /static/img/it로고.png HTTP/1.1\" 304 -\n",
      "127.0.0.1 - - [17/Aug/2022 18:53:02] \"GET /static/img/검색아이콘.png HTTP/1.1\" 304 -\n",
      "127.0.0.1 - - [17/Aug/2022 18:53:02] \"GET /static/test_page.css HTTP/1.1\" 304 -\n"
     ]
    },
    {
     "ename": "",
     "evalue": "",
     "output_type": "error",
     "traceback": [
      "\u001b[1;31mCanceled future for execute_request message before replies were done"
     ]
    },
    {
     "ename": "",
     "evalue": "",
     "output_type": "error",
     "traceback": [
      "현재 셀 또는 이전 셀에서 코드를 실행하는 동안 Kernel이 충돌했습니다. 셀의 코드를 검토하여 오류의 가능한 원인을 식별하세요. 자세한 내용을 보려면 <a href='https://aka.ms/vscodeJupyterKernelCrash'> 여기 </a> 를 클릭하세요. 자세한 내용은 Jupyter <a href='command:jupyter.viewOutput'>로그</a>를 참조하세요."
     ]
    }
   ],
   "source": [
    "# ##### 심장병 예측 ######## \n",
    "def HD_ML_predict(HD_model, HD_features):\n",
    "    HD_pred = HD_model.predict(HD_features)\n",
    "    print(HD_pred)\n",
    "    return HD_pred\n",
    "\n",
    "# ##### 당뇨병 예측 ######## \n",
    "def DI_ML_predict(DI_model, DI_features):\n",
    "    DI_pred = DI_model.predict(DI_features)\n",
    "    print(DI_pred)\n",
    "    return DI_pred\n",
    "\n",
    "# # ##### 신장병 예측 ########\n",
    "def KD_ML_predict(KD_model, KD_features):\n",
    "    KD_pred = KD_model.predict(KD_features)\n",
    "    print(KD_pred)\n",
    "    return KD_pred\n",
    "\n",
    "# # ##### 뇌졸증 예측 ########\n",
    "def ST_ML_predict(ST_model, ST_features):\n",
    "    ST_pred = ST_model.predict(ST_features)\n",
    "    print(ST_pred)\n",
    "    return ST_pred\n",
    "\n",
    "# # ##### 천식 예측 ########\n",
    "def AS_ML_predict(AS_model, AS_features):\n",
    "    AS_pred = AS_model.predict(AS_features)\n",
    "    print(AS_pred)\n",
    "    return AS_pred\n",
    "\n",
    "\n",
    "app = Flask(__name__)\n",
    "\n",
    "@app.route('/', methods=['GET','POST'])\n",
    "def main():\n",
    "    return render_template('homepage.html')\n",
    "\n",
    "@app.route('/test', methods=['GET','POST'])\n",
    "def test():\n",
    "    return render_template('test_page.html')\n",
    "\n",
    "@app.route('/result_page', methods=['POST'])\n",
    "def result():\n",
    "    taller = request.form['taller']\n",
    "    weight = request.form['weight']\n",
    "    age = request.form['age']\n",
    "    sex = request.form['sex']\n",
    "    sleeptime = request.form['sleeptime']\n",
    "    smoking = request.form['smoking']\n",
    "    alchole = request.form['alchole']\n",
    "    physicalactivity = request.form['physicalactivity']\n",
    "    diffwalking = request.form['diffwalking']\n",
    "    heartdisease = request.form['heartdisease']\n",
    "    Asthma = request.form['Asthma']\n",
    "    kidneydisease = request.form['kidneydisease']\n",
    "    stroke = request.form['stroke']\n",
    "    diebtic = request.form['diebtic']\n",
    "\n",
    "    taller = int(taller)\n",
    "    weight = int(weight)\n",
    "    age = int(age)\n",
    "    sex = int(sex)\n",
    "    sleeptime = int(sleeptime)\n",
    "    smoking = int(smoking)\n",
    "    alchole = int(alchole)\n",
    "    physicalactivity = int(physicalactivity)\n",
    "    diffwalking = int(diffwalking)\n",
    "    heartdisease = int(heartdisease)\n",
    "    Asthma = int(Asthma)\n",
    "    kidneydisease = int(kidneydisease)\n",
    "    stroke = int(stroke)\n",
    "    diebtic = int(diebtic)\n",
    "\n",
    "    BMI = weight / (taller * taller / 10000)\n",
    "\n",
    "    BMI = round(BMI,2)\n",
    "    \n",
    "    if 0 < BMI < 18.5:\n",
    "        BMI = 1\n",
    "    elif 18.5 < BMI < 24.99:\n",
    "        BMI = 2\n",
    "    elif 25.00 < BMI < 29.99:\n",
    "        BMI = 3\n",
    "    elif 30.00 < BMI < 34.99:\n",
    "        BMI = 4\n",
    "    elif 35.00 < BMI < 39.99:\n",
    "        BMI = 5\n",
    "    else:\n",
    "        BMI = 6\n",
    "\n",
    "    if 18 < age < 29:\n",
    "        age = 1\n",
    "    elif 30 < age < 40:\n",
    "        age = 2\n",
    "    elif 40 < age < 50:\n",
    "        age = 3\n",
    "    elif 50 < age < 60:\n",
    "        age = 4\n",
    "    else:\n",
    "        age = 5\n",
    "\n",
    "    HD_features = np.array([(BMI, smoking, alchole, stroke, diffwalking, sex, physicalactivity, \n",
    "                                sleeptime,  Asthma, kidneydisease, age, diebtic)])\n",
    "    \n",
    "    DI_features = np.array([(heartdisease, BMI, smoking, alchole, stroke, diffwalking, sex, physicalactivity, \n",
    "                        sleeptime,  Asthma, kidneydisease, age)])\n",
    "                        \n",
    "    KD_features = np.array([(heartdisease, BMI, smoking, alchole, stroke, diffwalking, sex, physicalactivity, \n",
    "                            sleeptime,  Asthma, age, diebtic)])\n",
    "\n",
    "    ST_features = np.array([(heartdisease, BMI, smoking, alchole, diffwalking, sex, physicalactivity, \n",
    "                            sleeptime,  Asthma, kidneydisease, age, diebtic)])\n",
    "\n",
    "    AS_features = np.array([(heartdisease, BMI,smoking, alchole, stroke, diffwalking, sex, physicalactivity, \n",
    "                            sleeptime, kidneydisease, age, diebtic)])\n",
    "     \n",
    "\n",
    "    HD_count = 0\n",
    "    \n",
    "    ####### 예측모델 결과 #########\n",
    "    result_HD = HD_ML_predict(HD_model, HD_features)\n",
    "    result_DI = DI_ML_predict(DI_model, DI_features)\n",
    "    result_KD = KD_ML_predict(KD_model, KD_features)\n",
    "    result_ST = ST_ML_predict(ST_model, ST_features)\n",
    "    result_AS = AS_ML_predict(AS_model, AS_features)\n",
    "    \n",
    "    print(BMI, smoking, alchole, stroke, diffwalking, sex, physicalactivity, \n",
    "                                sleeptime,  Asthma, kidneydisease, age, diebtic)\n",
    "               \n",
    "    return render_template('result_page.html', HD_data= result_HD, DI_data = result_DI, KD_data=result_KD ,ST_data=result_ST, AS_data=result_AS)\n",
    "\n",
    "if __name__ ==\"__main__\":\n",
    "    app.run(debug=True, use_reloader=False)"
   ]
  },
  {
   "cell_type": "code",
   "execution_count": null,
   "metadata": {},
   "outputs": [],
   "source": []
  }
 ],
 "metadata": {
  "kernelspec": {
   "display_name": "Python 3.9.12 ('seong')",
   "language": "python",
   "name": "python3"
  },
  "language_info": {
   "codemirror_mode": {
    "name": "ipython",
    "version": 3
   },
   "file_extension": ".py",
   "mimetype": "text/x-python",
   "name": "python",
   "nbconvert_exporter": "python",
   "pygments_lexer": "ipython3",
   "version": "3.9.12"
  },
  "orig_nbformat": 4,
  "vscode": {
   "interpreter": {
    "hash": "39d8dbc1ec3b8485dd02e9d9d90ee1ef7a67019bbe3366de5421606c470db848"
   }
  }
 },
 "nbformat": 4,
 "nbformat_minor": 2
}
